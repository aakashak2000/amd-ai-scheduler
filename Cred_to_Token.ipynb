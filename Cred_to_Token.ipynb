{
 "cells": [
  {
   "cell_type": "code",
   "execution_count": null,
   "id": "98e0ffa4",
   "metadata": {},
   "outputs": [],
   "source": [
    "from google_auth_oauthlib.flow import InstalledAppFlow\n",
    "\n",
    "SCOPES = [\"https://www.googleapis.com/auth/calendar\"]\n",
    "\n",
    "def authenticate():\n",
    "    flow = InstalledAppFlow.from_client_secrets_file(\"Keys/userone.amd.json\", SCOPES)\n",
    "    creds = flow.run_local_server(port=0)\n",
    "    with open(\"Keys/userone.amd.token\", \"w\") as token:\n",
    "        token.write(creds.to_json())\n",
    "\n",
    "authenticate()"
   ]
  },
  {
   "cell_type": "code",
   "execution_count": 2,
   "id": "b860493d",
   "metadata": {},
   "outputs": [
    {
     "name": "stdout",
     "output_type": "stream",
     "text": [
      "Meeting Scheduling Summary\n",
      "==================================================\n",
      "\n",
      "Initial Request:\n",
      "  Design Spike for 2 people\n",
      "\n",
      "Coordinator Agent:\n",
      "  \"Received the meeting request, set up scheduling assistants for each participant, coordinated the scheduling negotiation, and confirmed the final meeting time.\"\n",
      "\n",
      "Negotiator Agent:\n",
      "  \"Checked availability and Found scheduling conflicts, then searched for alternative times, then conflicts found with 2 participants: usertwo.amd, userthree.amd, then found 10 potential meeting times.\"\n",
      "\n",
      "Participant Responses:\n",
      "  - Userone.Amd: \"Works perfectly. This is during my preferred morning hours - perfect timing\"\n",
      "  - Usertwo.Amd: \"Can make it work. This time is okay for me - not perfect but workable\"\n",
      "  - Userthree.Amd: \"Works perfectly. This is during my preferred morning hours - perfect timing\"\n",
      "\n",
      "Available Time Options Considered:\n",
      "  • 11:00 AM - 3 people available ✓ SELECTED\n",
      "  • 11:15 AM - 3 people available\n",
      "  • 09:00 AM - 3 people available\n",
      "  • 11:45 AM - 3 people available\n",
      "  • 11:30 AM - 3 people available\n",
      "  • 03:45 PM - 3 people available\n",
      "  • 02:45 PM - 3 people available\n",
      "  • 04:45 PM - 3 people available\n",
      "  • 04:00 PM - 3 people available\n",
      "  • 03:00 PM - 3 people available\n",
      "\n",
      "Final Decision:\n",
      "  Selected 11:00 ist after analyzing 10 possible times. it achieved excellent agreement among all participants. morning timing works well for focus and energy levels. ensures all 3 participants can attend.\n"
     ]
    }
   ],
   "source": [
    "print(\"Meeting Scheduling Summary\\n==================================================\\n\\nInitial Request:\\n  Design Spike for 2 people\\n\\nCoordinator Agent:\\n  \\\"Received the meeting request, set up scheduling assistants for each participant, coordinated the scheduling negotiation, and confirmed the final meeting time.\\\"\\n\\nNegotiator Agent:\\n  \\\"Checked availability and Found scheduling conflicts, then searched for alternative times, then conflicts found with 2 participants: usertwo.amd, userthree.amd, then found 10 potential meeting times.\\\"\\n\\nParticipant Responses:\\n  - Userone.Amd: \\\"Works perfectly. This is during my preferred morning hours - perfect timing\\\"\\n  - Usertwo.Amd: \\\"Can make it work. This time is okay for me - not perfect but workable\\\"\\n  - Userthree.Amd: \\\"Works perfectly. This is during my preferred morning hours - perfect timing\\\"\\n\\nAvailable Time Options Considered:\\n  \\u2022 11:00 AM - 3 people available \\u2713 SELECTED\\n  \\u2022 11:15 AM - 3 people available\\n  \\u2022 09:00 AM - 3 people available\\n  \\u2022 11:45 AM - 3 people available\\n  \\u2022 11:30 AM - 3 people available\\n  \\u2022 03:45 PM - 3 people available\\n  \\u2022 02:45 PM - 3 people available\\n  \\u2022 04:45 PM - 3 people available\\n  \\u2022 04:00 PM - 3 people available\\n  \\u2022 03:00 PM - 3 people available\\n\\nFinal Decision:\\n  Selected 11:00 ist after analyzing 10 possible times. it achieved excellent agreement among all participants. morning timing works well for focus and energy levels. ensures all 3 participants can attend.\")"
   ]
  },
  {
   "cell_type": "code",
   "execution_count": null,
   "id": "96abd919",
   "metadata": {},
   "outputs": [],
   "source": []
  }
 ],
 "metadata": {
  "kernelspec": {
   "display_name": ".venv",
   "language": "python",
   "name": "python3"
  },
  "language_info": {
   "codemirror_mode": {
    "name": "ipython",
    "version": 3
   },
   "file_extension": ".py",
   "mimetype": "text/x-python",
   "name": "python",
   "nbconvert_exporter": "python",
   "pygments_lexer": "ipython3",
   "version": "3.10.10"
  }
 },
 "nbformat": 4,
 "nbformat_minor": 5
}
